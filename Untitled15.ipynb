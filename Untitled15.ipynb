{
  "nbformat": 4,
  "nbformat_minor": 0,
  "metadata": {
    "colab": {
      "provenance": [],
      "authorship_tag": "ABX9TyNgDRofQ4cUc5L98h9ri4QS",
      "include_colab_link": true
    },
    "kernelspec": {
      "name": "python3",
      "display_name": "Python 3"
    },
    "language_info": {
      "name": "python"
    }
  },
  "cells": [
    {
      "cell_type": "markdown",
      "metadata": {
        "id": "view-in-github",
        "colab_type": "text"
      },
      "source": [
        "<a href=\"https://colab.research.google.com/github/liz-lz/Metodos/blob/main/Untitled15.ipynb\" target=\"_parent\"><img src=\"https://colab.research.google.com/assets/colab-badge.svg\" alt=\"Open In Colab\"/></a>"
      ]
    },
    {
      "cell_type": "code",
      "source": [
        "import numpy as np\n",
        "\n",
        "def gauss_elimination_scaled_pivoting(A, B):\n",
        "    # para resolver el sistema de ecuaciones lineales AX = B con eliminación gaussiana con pivoteo parcial escalado.\n",
        "\n",
        "   # param A: la matriz de coeficientes (n x n)\n",
        "   # param B: vector de términos independientes (n)\n",
        "   # return: vector solución X (n) o el mensaje si es que no hay solución única.\n",
        "\n",
        "    n = len(A) # número de ecuaciones\n",
        "    # convierte a arreglo numpy de tipo float\n",
        "    A = np.array(A, dtype=float)\n",
        "    B = np.array(B, dtype=float)\n",
        "\n",
        "    # para redondear los valores de A y B a tres dígitos, por la concición del problema\n",
        "    A = np.round(A, 3)\n",
        "    B = np.round(B, 3)\n",
        "\n",
        "    # escalado inicial, orden de filas y verifica la solución\n",
        "    S = np.max(np.abs(A), axis=1)  # escalas de las filas\n",
        "    if np.any(S == 0): # si es fila con puros ceros, no hay solución única\n",
        "        return \"No existe solución única.\"\n",
        "\n",
        "    NROW = np.arange(n) # orden de filas inicial\n",
        "\n",
        "    # proceso de eliminación\n",
        "    for i in range(n - 1):\n",
        "        # selecciona el pivote escalado más grande\n",
        "        # calcula el cociente del elemento entre el valor absoluto y su escala\n",
        "        ratios = np.abs(A[NROW[i:], i]) / S[NROW[i:]]\n",
        "        p = i + np.argmax(ratios)  # índice del pivote escalado\n",
        "\n",
        "        # intercambia filas en NROW para que el pivote esté en la posición actual\n",
        "        if p != i:\n",
        "            NROW[i], NROW[p] = NROW[p], NROW[i]\n",
        "\n",
        "        # verifica si el pivote es cero, dentro de la tolerancia\n",
        "        if np.abs(A[NROW[i], i]) < 1e-12:\n",
        "            return \"No existe solución única.\"\n",
        "\n",
        "        # eliminación hacia adelante\n",
        "        for j in range(i + 1, n):\n",
        "          # calcula el factor de eliminación\n",
        "            factor = A[NROW[j], i] / A[NROW[i], i]\n",
        "            # resta el múltiplo de la fila i para actualizar la fila j\n",
        "            A[NROW[j], i:] -= factor * A[NROW[i], i:]\n",
        "            B[NROW[j]] -= factor * B[NROW[i]]\n",
        "\n",
        "            # redondea los resultados de A y B a tres dígitos\n",
        "            A = np.round(A, 3)\n",
        "            B = np.round(B, 3)\n",
        "\n",
        "    # verifica si el último pivote es cero\n",
        "    if np.abs(A[NROW[-1], -1]) < 1e-12:\n",
        "        return \"No existe solución única.\"\n",
        "\n",
        "    # sustitución hacia atrás para encontrar las soluciones\n",
        "    X = np.zeros(n) # inicia el vector solución\n",
        "    for i in range(n - 1, -1, -1):\n",
        "      # resuelve la ecuación para la nueva variable\n",
        "        X[i] = (B[NROW[i]] - np.dot(A[NROW[i], i + 1:], X[i + 1:])) / A[NROW[i], i]\n",
        "\n",
        "    return np.round(X, 3)  # redondea los resultados de X a tres dígitos\n",
        "\n",
        "# Ejemplo 3\n",
        "A = [\n",
        "    [2.11, -4.21, 0.921],\n",
        "    [4.01, 10.2, -1.12],\n",
        "    [1.09, 0.987, 0.832]\n",
        "]\n",
        "B = [2.01, -3.09, 4.21] # términos independientes\n",
        "\n",
        "resultado = gauss_elimination_scaled_pivoting(A, B)\n",
        "print(\"Resultado:\", resultado)\n"
      ],
      "metadata": {
        "colab": {
          "base_uri": "https://localhost:8080/"
        },
        "id": "wqzYKfyJTQJJ",
        "outputId": "6490c294-39e6-42bf-a04c-d6cffb3d2dd0"
      },
      "execution_count": 3,
      "outputs": [
        {
          "output_type": "stream",
          "name": "stdout",
          "text": [
            "Resultado: [-0.427  0.427  5.113]\n"
          ]
        }
      ]
    }
  ]
}