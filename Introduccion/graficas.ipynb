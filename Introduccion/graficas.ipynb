{
  "cells": [
    {
      "cell_type": "markdown",
      "id": "671dd681",
      "metadata": {
        "id": "671dd681"
      },
      "source": [
        "# Gráfica de $f(x)=x - 3^{-x}$"
      ]
    },
    {
      "cell_type": "code",
      "execution_count": null,
      "id": "50d8ebd2",
      "metadata": {
        "id": "50d8ebd2"
      },
      "outputs": [],
      "source": [
        "import matplotlib.pyplot as plt\n",
        "import numpy as np"
      ]
    },
    {
      "cell_type": "code",
      "execution_count": null,
      "id": "7f3ddf27",
      "metadata": {
        "id": "7f3ddf27"
      },
      "outputs": [],
      "source": [
        "# Función cuadrática.\n",
        "def f(x):\n",
        "    return x - 3**(-x)"
      ]
    },
    {
      "cell_type": "code",
      "execution_count": null,
      "id": "4eae7125",
      "metadata": {
        "id": "4eae7125"
      },
      "outputs": [],
      "source": [
        "# Valores del eje X que toma el gráfico.\n",
        "x=np.linspace(-10, 10,10)"
      ]
    },
    {
      "cell_type": "code",
      "execution_count": null,
      "id": "50c58368",
      "metadata": {
        "id": "50c58368"
      },
      "outputs": [],
      "source": [
        "# Graficar ambas funciones.\n",
        "plt.plot(x, f(x))\n",
        "#plt.axhline(0, color=\"black\")\n",
        "#plt.axvline(0, color=\"black\")\n",
        "plt.xlim(-10, 10)\n",
        "plt.ylim(-5, 5)\n",
        "#plt.savefig(\"output.png\") # Guardar gráfico como imágen PNG.\n",
        "# Mostrarlo.\n",
        "plt.show()"
      ]
    },
    {
      "cell_type": "markdown",
      "id": "7bbb009c",
      "metadata": {
        "id": "7bbb009c"
      },
      "source": [
        "Ejercicio 1: Graficar las funciones $x$ y $3^{-x}$ en una sola figura y comentar cómo su resta da origen a la gráfica de $f(x)$.\n",
        "\n",
        "Ejercicio 2: Agregar título, color, retícula, rótulos a los ejes y aumentar el tamaño de la gráfica."
      ]
    },
    {
      "cell_type": "code",
      "execution_count": null,
      "id": "81fc6931",
      "metadata": {
        "id": "81fc6931"
      },
      "outputs": [],
      "source": []
    }
  ],
  "metadata": {
    "kernelspec": {
      "display_name": "Python 3 (ipykernel)",
      "language": "python",
      "name": "python3"
    },
    "language_info": {
      "codemirror_mode": {
        "name": "ipython",
        "version": 3
      },
      "file_extension": ".py",
      "mimetype": "text/x-python",
      "name": "python",
      "nbconvert_exporter": "python",
      "pygments_lexer": "ipython3",
      "version": "3.7.3"
    },
    "colab": {
      "provenance": []
    }
  },
  "nbformat": 4,
  "nbformat_minor": 5
}