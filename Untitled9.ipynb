{
  "nbformat": 4,
  "nbformat_minor": 0,
  "metadata": {
    "colab": {
      "provenance": [],
      "authorship_tag": "ABX9TyOovGAigTYu05lb7JoRb4GL",
      "include_colab_link": true
    },
    "kernelspec": {
      "name": "python3",
      "display_name": "Python 3"
    },
    "language_info": {
      "name": "python"
    }
  },
  "cells": [
    {
      "cell_type": "markdown",
      "metadata": {
        "id": "view-in-github",
        "colab_type": "text"
      },
      "source": [
        "<a href=\"https://colab.research.google.com/github/liz-lz/Metodos/blob/main/Untitled9.ipynb\" target=\"_parent\"><img src=\"https://colab.research.google.com/assets/colab-badge.svg\" alt=\"Open In Colab\"/></a>"
      ]
    },
    {
      "cell_type": "code",
      "execution_count": 2,
      "metadata": {
        "id": "XENBFS5p_kAi",
        "colab": {
          "base_uri": "https://localhost:8080/"
        },
        "outputId": "56228923-a100-4951-bb5d-0726fc14f335"
      },
      "outputs": [
        {
          "output_type": "stream",
          "name": "stdout",
          "text": [
            "Tabla Método de Neville:\n",
            "[[0.7651977  0.         0.         0.         0.        ]\n",
            " [0.620086   0.52334487 0.         0.         0.        ]\n",
            " [0.4554022  0.5102968  0.51247148 0.         0.        ]\n",
            " [0.2818186  0.5132634  0.51128567 0.51181269 0.        ]\n",
            " [0.1103623  0.510427   0.51373613 0.51183021 0.51181999]]\n",
            "\n",
            "El valor del polinomio interpolador en x = 1.5 es: 0.5118199942386831\n"
          ]
        }
      ],
      "source": [
        "import numpy as np\n",
        "\n",
        "def metodo_neville(x, f_x, x_target): # nodos x, valores de f(x) y puntos donde\n",
        "# queremos evaluar el polinomio\n",
        "\n",
        "    n = len(x) # para calcular el número de nodos\n",
        "    Q = np.zeros((n, n))  # inicia la tabla con ceros, almacena valores intermedios\n",
        "    Q[:, 0] = f_x  # la primera columna son los f(x)\n",
        "\n",
        "    # llena la tabla recursivamente\n",
        "    for i in range(1, n):  # para i = 1, 2, ..., n-1\n",
        "        for j in range(1, i + 1):  # para j = 1, 2, ..., i\n",
        "            Q[i, j] = ((x_target - x[i - j]) * Q[i, j - 1] -\n",
        "                       (x_target - x[i]) * Q[i - 1, j - 1]) / (x[i] - x[i - j])\n",
        "# fórmula del método, punto que queremos calcular y valores previamente calculados\n",
        "\n",
        "    return Q, Q[-1, -1]  # retorna la tabla Q y el valor P(x)\n",
        "\n",
        "# datos de entrada\n",
        "x = np.array([1.0, 1.3, 1.6, 1.9, 2.2])  # nodos\n",
        "f_x = np.array([0.7651977, 0.6200860, 0.4554022, 0.2818186, 0.1103623])  # valores de f(x)\n",
        "x_target = 1.5  # punto que queremos\n",
        "\n",
        "# llamada a la función\n",
        "tabla_Q, resultado = metodo_neville(x, f_x, x_target)\n",
        "\n",
        "# salida\n",
        "print(\"Tabla Método de Neville:\")\n",
        "print(tabla_Q)\n",
        "print(f\"\\nEl valor del polinomio interpolador en x = {x_target} es: {resultado}\")\n"
      ]
    }
  ]
}