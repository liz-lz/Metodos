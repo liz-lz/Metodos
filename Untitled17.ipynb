{
  "nbformat": 4,
  "nbformat_minor": 0,
  "metadata": {
    "colab": {
      "provenance": [],
      "authorship_tag": "ABX9TyNgj+N4UgZ8LG7j2IdNcW4Z",
      "include_colab_link": true
    },
    "kernelspec": {
      "name": "python3",
      "display_name": "Python 3"
    },
    "language_info": {
      "name": "python"
    }
  },
  "cells": [
    {
      "cell_type": "markdown",
      "metadata": {
        "id": "view-in-github",
        "colab_type": "text"
      },
      "source": [
        "<a href=\"https://colab.research.google.com/github/liz-lz/Metodos/blob/main/Untitled17.ipynb\" target=\"_parent\"><img src=\"https://colab.research.google.com/assets/colab-badge.svg\" alt=\"Open In Colab\"/></a>"
      ]
    },
    {
      "cell_type": "code",
      "source": [
        "import numpy as np\n",
        "\n",
        "def lu_factorization(A):\n",
        "    n = len(A)\n",
        "\n",
        "    # inicia las matrices L y U con ceros\n",
        "    L = np.zeros((n, n))\n",
        "    U = np.zeros((n, n))\n",
        "\n",
        "    for i in range(n):\n",
        "        L[i, i] = 1  # la diagonal principal de L es igual a 1\n",
        "\n",
        "    for i in range(n):\n",
        "        for j in range(i, n):  # calculamos los elementos de U\n",
        "            U[i, j] = A[i, j] - sum(L[i, k] * U[k, j] for k in range(i))\n",
        "\n",
        "        for j in range(i + 1, n):  # calculamos los elementos de L\n",
        "            if U[i, i] == 0:\n",
        "                print(\"Factorización imposible\")\n",
        "                return None, None\n",
        "            L[j, i] = (A[j, i] - sum(L[j, k] * U[k, i] for k in range(i))) / U[i, i]\n",
        "\n",
        "    return L, U\n",
        "\n",
        "# entrada de la matriz A\n",
        "A = np.array([\n",
        "    [1, 1, 0, 3],\n",
        "    [2, 1, -1, 1],\n",
        "    [3, -1, -1, 2],\n",
        "    [-1, 2, 3, -1]\n",
        "], dtype=float)\n",
        "\n",
        "# ejecutamos la factorización\n",
        "L, U = lu_factorization(A)\n",
        "\n",
        "if L is not None and U is not None:\n",
        "    print(\"Matriz L:\")\n",
        "    print(L)\n",
        "    print(\"\\nMatriz U:\")\n",
        "    print(U)\n",
        "\n",
        "    # se verifica que L @ U sea igual a A\n",
        "    print(\"\\nVerificación (L @ U):\")\n",
        "    print(np.dot(L, U))\n"
      ],
      "metadata": {
        "colab": {
          "base_uri": "https://localhost:8080/"
        },
        "id": "e3O1210dD0TF",
        "outputId": "40f61a62-d58c-4ea8-f3a0-9dd7ec0a96d9"
      },
      "execution_count": 3,
      "outputs": [
        {
          "output_type": "stream",
          "name": "stdout",
          "text": [
            "Matriz L:\n",
            "[[ 1.  0.  0.  0.]\n",
            " [ 2.  1.  0.  0.]\n",
            " [ 3.  4.  1.  0.]\n",
            " [-1. -3.  0.  1.]]\n",
            "\n",
            "Matriz U:\n",
            "[[  1.   1.   0.   3.]\n",
            " [  0.  -1.  -1.  -5.]\n",
            " [  0.   0.   3.  13.]\n",
            " [  0.   0.   0. -13.]]\n",
            "\n",
            "Verificación (L @ U):\n",
            "[[ 1.  1.  0.  3.]\n",
            " [ 2.  1. -1.  1.]\n",
            " [ 3. -1. -1.  2.]\n",
            " [-1.  2.  3. -1.]]\n"
          ]
        }
      ]
    }
  ]
}