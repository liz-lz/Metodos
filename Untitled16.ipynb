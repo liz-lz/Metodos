{
  "nbformat": 4,
  "nbformat_minor": 0,
  "metadata": {
    "colab": {
      "provenance": [],
      "authorship_tag": "ABX9TyMHT+4es+TtBhvfjIG7rDNF",
      "include_colab_link": true
    },
    "kernelspec": {
      "name": "python3",
      "display_name": "Python 3"
    },
    "language_info": {
      "name": "python"
    }
  },
  "cells": [
    {
      "cell_type": "markdown",
      "metadata": {
        "id": "view-in-github",
        "colab_type": "text"
      },
      "source": [
        "<a href=\"https://colab.research.google.com/github/liz-lz/Metodos/blob/main/Untitled16.ipynb\" target=\"_parent\"><img src=\"https://colab.research.google.com/assets/colab-badge.svg\" alt=\"Open In Colab\"/></a>"
      ]
    },
    {
      "cell_type": "code",
      "source": [
        "import numpy as np\n",
        "\n",
        "def redondear(valor, digitos=4): # redondea un valor a un número fijo de dígitos decimales\n",
        "    return round(valor, digitos)\n",
        "    # valor: valor a redondear\n",
        "    # digitos: número de dígitos decimales para redondear\n",
        "    # return: el valor redondeado\n",
        "def resolver_sistema_lineal(A): # resuelve el istema de ecuaciones lineales con la eliminación de Gauss con pivoteo parcial\n",
        "\n",
        "    # A: matriz aumentada del sistema (numpy array de dimensión n x (n+1))\n",
        "    # return: Solución del sistema o mensaje indicando que no tiene solución única.\n",
        "\n",
        "    n = A.shape[0]  # número de ecuaciones (filas de la matriz)\n",
        "    NROW = list(range(n))  # indicador de filas\n",
        "\n",
        "    # proceso de eliminación\n",
        "    for i in range(n - 1):\n",
        "        # selecciona el pivote\n",
        "                # selecciona la fila con el mayor valor absoluto en la columna actual (i).\n",
        "        p = max(range(i, n), key=lambda k: abs(A[NROW[k], i]))\n",
        "\n",
        "        # verifica si el sistema no tiene solución única\n",
        "        # si el pivote es 0, no tiene solución única, o muy cercano a 0\n",
        "        if abs(A[NROW[p], i]) < 1e-12:\n",
        "            return \"No existe solución única.\"\n",
        "\n",
        "        # intercambia los indicadores de las filas actuales para ver los intercambios sin modificar directamente A\n",
        "        if NROW[i] != NROW[p]:\n",
        "            NROW[i], NROW[p] = NROW[p], NROW[i]\n",
        "\n",
        "        # eliminación\n",
        "        for j in range(i + 1, n):\n",
        "        # calcula el multiplicador para la fila j\n",
        "            m = redondear(A[NROW[j], i] / A[NROW[i], i])\n",
        "            # actualiza la fila j\n",
        "            A[NROW[j], i:] = [\n",
        "                redondear(A[NROW[j], k] - m * A[NROW[i], k]) for k in range(i, n + 1)\n",
        "            ]\n",
        "\n",
        "    # verifica si el sistema no tiene solución única\n",
        "    if abs(A[NROW[-1], -2]) < 1e-12:\n",
        "        return \"No existe solución única.\"\n",
        "\n",
        "    # sustitución hacia atrás e inicia el vector solución\n",
        "    x = np.zeros(n)\n",
        "    # calcula el último valor de la solución\n",
        "    x[-1] = redondear(A[NROW[-1], -1] / A[NROW[-1], -2])\n",
        "    # calcula los valores de la solución\n",
        "    for i in range(n - 2, -1, -1):\n",
        "       # suma los productos de las variables\n",
        "        suma = redondear(sum(redondear(A[NROW[i], j] * x[j]) for j in range(i + 1, n)))\n",
        "       # calcula el valor de la variable actual\n",
        "        x[i] = redondear((A[NROW[i], -1] - suma) / A[NROW[i], i])\n",
        "\n",
        "    # salida de la solución final\n",
        "    return x\n",
        "\n",
        "# ejemplo 2\n",
        "if __name__ == \"__main__\":\n",
        "    # matriz aumentada del sistema dado\n",
        "    A = np.array([\n",
        "        [0.003, 59.14, 59.17],\n",
        "        [5.291, -6.13, 46.78]\n",
        "    ])\n",
        "\n",
        "    resultado = resolver_sistema_lineal(A)\n",
        "    print(\"Resultado:\", resultado)\n"
      ],
      "metadata": {
        "colab": {
          "base_uri": "https://localhost:8080/"
        },
        "id": "rYYuIsu6vPWh",
        "outputId": "528dca6b-690a-4402-cf57-809f0aeb889c"
      },
      "execution_count": 3,
      "outputs": [
        {
          "output_type": "stream",
          "name": "stdout",
          "text": [
            "Resultado: [10.  1.]\n"
          ]
        }
      ]
    }
  ]
}