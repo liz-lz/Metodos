{
  "nbformat": 4,
  "nbformat_minor": 0,
  "metadata": {
    "colab": {
      "provenance": [],
      "authorship_tag": "ABX9TyNMd4iUNyvfeHQ9PSftb1gM",
      "include_colab_link": true
    },
    "kernelspec": {
      "name": "python3",
      "display_name": "Python 3"
    },
    "language_info": {
      "name": "python"
    }
  },
  "cells": [
    {
      "cell_type": "markdown",
      "metadata": {
        "id": "view-in-github",
        "colab_type": "text"
      },
      "source": [
        "<a href=\"https://colab.research.google.com/github/liz-lz/Metodos/blob/main/Untitled10.ipynb\" target=\"_parent\"><img src=\"https://colab.research.google.com/assets/colab-badge.svg\" alt=\"Open In Colab\"/></a>"
      ]
    },
    {
      "cell_type": "code",
      "source": [
        "def hermite_interpolation(x, f, f_prime): # calcula el polinomio, lista de nodos y valores\n",
        "# retorna tabla de diferencias divididascon los coeficientes\n",
        "\n",
        "    n = len(x)\n",
        "    z = [0] * (2 * n)  # nodos duplicados\n",
        "    Q = [[0] * (2 * n) for _ in range(2 * n)]  # tabla de diferencias divididas\n",
        "\n",
        "    # inicializar nodos duplicados y primera columna de diferencias divididas\n",
        "    for i in range(n):\n",
        "        z[2 * i] = z[2 * i + 1] = x[i]\n",
        "        Q[2 * i][0] = f[i]\n",
        "        Q[2 * i + 1][0] = f[i]\n",
        "        Q[2 * i + 1][1] = f_prime[i]\n",
        "        if i > 0:\n",
        "            Q[2 * i][1] = (Q[2 * i][0] - Q[2 * i - 1][0]) / (z[2 * i] - z[2 * i - 1])\n",
        "\n",
        "    # calcula las diferencias divididas para columnas superiores\n",
        "    for i in range(2, 2 * n):\n",
        "        for j in range(2, i + 1):\n",
        "            Q[i][j] = (Q[i][j - 1] - Q[i - 1][j - 1]) / (z[i] - z[i - j])\n",
        "\n",
        "    # retorna solo los valores diagonales, los coeficientes del polinomio\n",
        "    return [Q[i][i] for i in range(2 * n)]\n",
        "\n",
        "def evaluate_hermite(x, z, Q, value): # evalúa el polinomio en un punto dado\n",
        "# los parámetros son la lista de nodos, de nodos duplicados y los coeficientes\n",
        "# y retorna la aproximación\n",
        "\n",
        "    n = len(Q)\n",
        "    result = Q[0]\n",
        "    product = 1.0\n",
        "    for i in range(1, n):\n",
        "        product *= (value - z[i - 1])\n",
        "        result += Q[i] * product\n",
        "    return result\n",
        "\n",
        "# datos del problema\n",
        "x = [1.3, 1.6, 1.9]  # nodos\n",
        "f = [0.6200860, 0.4554022, 0.2818186]  # valores de la función\n",
        "f_prime = [-0.5220232, -0.5698959, -0.5811571]  # derivadas de la función\n",
        "\n",
        "# construye el polinomio de Hermite\n",
        "coeficientes = hermite_interpolation(x, f, f_prime)\n",
        "\n",
        "# nodos duplicados\n",
        "z = []\n",
        "for xi in x:\n",
        "    z.append(xi)\n",
        "    z.append(xi)\n",
        "\n",
        "# evalúa el polinomio en x = 1.5\n",
        "aproximacion = evaluate_hermite(x, z, coeficientes, 1.5)\n",
        "\n",
        "print(\"Coeficientes del polinomio osculante de Hermite:\", coeficientes)\n",
        "print(\"Aproximación de f(1.5):\", aproximacion)\n"
      ],
      "metadata": {
        "colab": {
          "base_uri": "https://localhost:8080/"
        },
        "id": "Hh_ZWyNP6lol",
        "outputId": "434ddaa5-f55c-4384-9b00-9ce5097e5bec"
      },
      "execution_count": 7,
      "outputs": [
        {
          "output_type": "stream",
          "name": "stdout",
          "text": [
            "Coeficientes del polinomio osculante de Hermite: [0.620086, -0.5220232, -0.08974266666666673, 0.06636555555555616, 0.002666666666662164, -0.0027746913579894407]\n",
            "Aproximación de f(1.5): 0.5118277017283951\n"
          ]
        }
      ]
    }
  ]
}