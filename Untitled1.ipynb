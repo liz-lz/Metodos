{
  "nbformat": 4,
  "nbformat_minor": 0,
  "metadata": {
    "colab": {
      "provenance": [],
      "authorship_tag": "ABX9TyPmKu8Cv+12VyzfkfYv0c1/",
      "include_colab_link": true
    },
    "kernelspec": {
      "name": "python3",
      "display_name": "Python 3"
    },
    "language_info": {
      "name": "python"
    }
  },
  "cells": [
    {
      "cell_type": "markdown",
      "metadata": {
        "id": "view-in-github",
        "colab_type": "text"
      },
      "source": [
        "<a href=\"https://colab.research.google.com/github/liz-lz/Metodos/blob/main/Untitled1.ipynb\" target=\"_parent\"><img src=\"https://colab.research.google.com/assets/colab-badge.svg\" alt=\"Open In Colab\"/></a>"
      ]
    },
    {
      "cell_type": "code",
      "source": [
        "from math import *\n",
        "import numpy as np\n",
        "import matplotlib . pyplot as plt"
      ],
      "metadata": {
        "id": "nux8u31yr8Kx"
      },
      "execution_count": 29,
      "outputs": []
    },
    {
      "cell_type": "code",
      "source": [
        "def g(x):\n",
        "    return (x + 1)**(1/3)"
      ],
      "metadata": {
        "id": "0Fk17RIqr8NO"
      },
      "execution_count": 30,
      "outputs": []
    },
    {
      "cell_type": "code",
      "source": [
        "x0 = 1 # en donde empieza\n",
        "tolerancia = 1e-2\n",
        "max_iter = 100  # máximo de iteraciones"
      ],
      "metadata": {
        "id": "i3Bw9nAvr8QD"
      },
      "execution_count": 31,
      "outputs": []
    },
    {
      "cell_type": "code",
      "source": [
        "# para las iteraciones del punto fijo\n",
        "iteraciones = []\n",
        "x_n = x0"
      ],
      "metadata": {
        "id": "OjukMgKlr8T9"
      },
      "execution_count": 32,
      "outputs": []
    },
    {
      "cell_type": "code",
      "source": [
        "for i in range(max_iter):\n",
        "    x_next = g(x_n)\n",
        "    iteraciones.append((i, x_n, x_next))\n",
        "    if abs(x_next - x_n) < tolerancia:\n",
        "        break\n",
        "    x_n = x_next"
      ],
      "metadata": {
        "id": "U-b6eoPlr8XU"
      },
      "execution_count": 33,
      "outputs": []
    },
    {
      "cell_type": "code",
      "source": [
        "# hacer la tabla\n",
        "tabla_iteraciones = pd.DataFrame(iteraciones, columns=[\"Iteración\", \"x_n\", \"x_{n+1}\"])\n",
        "tabla_iteraciones[\"|x_{n+1} - x_n|\"] = abs(tabla_iteraciones[\"x_{n+1}\"] - tabla_iteraciones[\"x_n\"])\n",
        "\n",
        "# imprimir la tabla\n",
        "print(tabla_iteraciones)"
      ],
      "metadata": {
        "colab": {
          "base_uri": "https://localhost:8080/"
        },
        "id": "dPoGPDUosXz3",
        "outputId": "dd7b8e08-7405-460d-accd-11b834612adb"
      },
      "execution_count": 34,
      "outputs": [
        {
          "output_type": "stream",
          "name": "stdout",
          "text": [
            "   Iteración       x_n   x_{n+1}  |x_{n+1} - x_n|\n",
            "0          0  1.000000  1.259921         0.259921\n",
            "1          1  1.259921  1.312294         0.052373\n",
            "2          2  1.312294  1.322354         0.010060\n",
            "3          3  1.322354  1.324269         0.001915\n"
          ]
        }
      ]
    }
  ]
}