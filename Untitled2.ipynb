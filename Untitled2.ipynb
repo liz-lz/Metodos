{
  "nbformat": 4,
  "nbformat_minor": 0,
  "metadata": {
    "colab": {
      "provenance": [],
      "authorship_tag": "ABX9TyPPhtdrifX8q0vhRRAIPyNc",
      "include_colab_link": true
    },
    "kernelspec": {
      "name": "python3",
      "display_name": "Python 3"
    },
    "language_info": {
      "name": "python"
    }
  },
  "cells": [
    {
      "cell_type": "markdown",
      "metadata": {
        "id": "view-in-github",
        "colab_type": "text"
      },
      "source": [
        "<a href=\"https://colab.research.google.com/github/liz-lz/Metodos/blob/main/Untitled2.ipynb\" target=\"_parent\"><img src=\"https://colab.research.google.com/assets/colab-badge.svg\" alt=\"Open In Colab\"/></a>"
      ]
    },
    {
      "cell_type": "code",
      "source": [
        "# función original f(x)\n",
        "def f(x):\n",
        "    return x**3 - x - 1\n",
        "# función original f(x)\n",
        "def df(x):\n",
        "    return 3*x**2 - 1\n",
        "\n",
        "# empezamos con el método de Newton\n",
        "def mnew(p0, tol=1e-2, max_iter=20): # definimos el punto inicial, la tolerancia\n",
        "# y la cantidad máxima de iteraciones\n",
        "    p = p0 # donde inicia\n",
        "    print(f\"{'Iteración':<10}{'p':<20}{'f(p)':<20}{'Error':<20}\") # para empezar\n",
        "     # a imprimir la tabla, su encabezado y que vaya imprimiendo las iteraciones,\n",
        "     # los valores de p y los errores\n",
        "    print(\"-\" * 70)\n",
        "\n",
        "\n",
        " # empezamos con el ciclo for que termina cuando llegue al máximo de iteraciones\n",
        "    for i in range(max_iter):\n",
        "        p_next = p - f(p) / df(p)  # usando la fórmula del método de Newton\n",
        "        error = abs(p_next - p)  # calculamos el error como la diferencia entre\n",
        "        #p_n y p_n+1\n",
        "        print(f\"{i+1:<10}{p_next:<20.10f}{f(p_next):<20.10f}{error:<20.10f}\")\n",
        "        #imprime los nuevos valores\n",
        "\n",
        "        if error < tol:  # verifica que el error esté por debajo de la tolerancia\n",
        "            print(\"\\nSolución encontrada\") # si es así, imprime ya el valor\n",
        "            print(f\"p = {p_next:.10f}, Error = {error:.10f}\")\n",
        "            return p_next\n",
        "        p = p_next\n",
        "\n",
        "    print(\"\\nNúmero máximo de iteraciones alcanzado\")\n",
        "    return p  # da el valor encontrado si se alcanza el máximo de iteraciones\n",
        "\n",
        "# parámetros iniciales\n",
        "p0 = 1  # valor inicial\n",
        "solucion = mnew(p0)\n",
        "\n",
        "print(f\"\\nLa solución aproximada es: {solucion:.10f}\")\n"
      ],
      "metadata": {
        "colab": {
          "base_uri": "https://localhost:8080/"
        },
        "id": "c256KlBPf7mi",
        "outputId": "25af36a1-ae81-4d89-da00-ca8c01340801"
      },
      "execution_count": 23,
      "outputs": [
        {
          "output_type": "stream",
          "name": "stdout",
          "text": [
            "Iteración p                   f(p)                Error               \n",
            "----------------------------------------------------------------------\n",
            "1         1.5000000000        0.8750000000        0.5000000000        \n",
            "2         1.3478260870        0.1006821731        0.1521739130        \n",
            "3         1.3252003990        0.0020583619        0.0226256880        \n",
            "4         1.3247181740        0.0000009244        0.0004822250        \n",
            "\n",
            "Solución encontrada\n",
            "p = 1.3247181740, Error = 0.0004822250\n",
            "\n",
            "La solución aproximada es: 1.3247181740\n"
          ]
        }
      ]
    }
  ]
}