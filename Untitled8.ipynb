{
  "nbformat": 4,
  "nbformat_minor": 0,
  "metadata": {
    "colab": {
      "provenance": [],
      "authorship_tag": "ABX9TyNxDmiDUuW2Gy1BnzJqpSBl",
      "include_colab_link": true
    },
    "kernelspec": {
      "name": "python3",
      "display_name": "Python 3"
    },
    "language_info": {
      "name": "python"
    }
  },
  "cells": [
    {
      "cell_type": "markdown",
      "metadata": {
        "id": "view-in-github",
        "colab_type": "text"
      },
      "source": [
        "<a href=\"https://colab.research.google.com/github/liz-lz/Metodos/blob/main/Untitled8.ipynb\" target=\"_parent\"><img src=\"https://colab.research.google.com/assets/colab-badge.svg\" alt=\"Open In Colab\"/></a>"
      ]
    },
    {
      "cell_type": "code",
      "execution_count": 1,
      "metadata": {
        "id": "JtvSqj50fuEq"
      },
      "outputs": [],
      "source": [
        "import sympy as sp"
      ]
    },
    {
      "cell_type": "code",
      "source": [
        "x=sp.Symbol('x')\n",
        "y=sp.Symbol('y')\n",
        "Q=sp.Symbol('Q')"
      ],
      "metadata": {
        "id": "mjU02Tv7fvsZ"
      },
      "execution_count": 3,
      "outputs": []
    },
    {
      "cell_type": "code",
      "source": [
        "Q_32=((x+1)*(2*x+1)-(x-1)*(((2/3)*x)+1))/2"
      ],
      "metadata": {
        "id": "hLNJkM9tgPmn"
      },
      "execution_count": 8,
      "outputs": []
    },
    {
      "cell_type": "code",
      "source": [
        "Q_32"
      ],
      "metadata": {
        "colab": {
          "base_uri": "https://localhost:8080/",
          "height": 89
        },
        "id": "l78-RMLIgd5p",
        "outputId": "3efae2e3-74d5-4371-d6a4-0a43ab5d0df4"
      },
      "execution_count": 9,
      "outputs": [
        {
          "output_type": "execute_result",
          "data": {
            "text/plain": [
              "-(0.666666666666667*x + 1)*(x - 1)/2 + (x + 1)*(2*x + 1)/2"
            ],
            "text/latex": "$\\displaystyle - \\frac{\\left(0.666666666666667 x + 1\\right) \\left(x - 1\\right)}{2} + \\frac{\\left(x + 1\\right) \\left(2 x + 1\\right)}{2}$"
          },
          "metadata": {},
          "execution_count": 9
        }
      ]
    },
    {
      "cell_type": "code",
      "source": [
        "sp.simplify(Q_32)"
      ],
      "metadata": {
        "colab": {
          "base_uri": "https://localhost:8080/",
          "height": 59
        },
        "id": "dqAgB-nfimkC",
        "outputId": "6dd9ed91-8a44-4cca-dcfc-5e93cddb43fa"
      },
      "execution_count": 13,
      "outputs": [
        {
          "output_type": "execute_result",
          "data": {
            "text/plain": [
              "0.666666666666667*x**2 + 1.33333333333333*x + 1.0"
            ],
            "text/latex": "$\\displaystyle 0.666666666666667 x^{2} + 1.33333333333333 x + 1.0$"
          },
          "metadata": {},
          "execution_count": 13
        }
      ]
    },
    {
      "cell_type": "code",
      "source": [],
      "metadata": {
        "id": "bBomnE4Yi_PH"
      },
      "execution_count": null,
      "outputs": []
    }
  ]
}