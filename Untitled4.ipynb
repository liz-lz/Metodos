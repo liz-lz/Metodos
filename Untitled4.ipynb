{
  "nbformat": 4,
  "nbformat_minor": 0,
  "metadata": {
    "colab": {
      "provenance": [],
      "authorship_tag": "ABX9TyN/F4y/WAyl+gMABTNQD1hN",
      "include_colab_link": true
    },
    "kernelspec": {
      "name": "python3",
      "display_name": "Python 3"
    },
    "language_info": {
      "name": "python"
    }
  },
  "cells": [
    {
      "cell_type": "markdown",
      "metadata": {
        "id": "view-in-github",
        "colab_type": "text"
      },
      "source": [
        "<a href=\"https://colab.research.google.com/github/liz-lz/Metodos/blob/main/Untitled4.ipynb\" target=\"_parent\"><img src=\"https://colab.research.google.com/assets/colab-badge.svg\" alt=\"Open In Colab\"/></a>"
      ]
    },
    {
      "cell_type": "code",
      "source": [
        "import math\n",
        "\n",
        "def f(x):\n",
        "    return math.cos(x) - 2 * x + 3 # función inicial\n",
        "\n",
        "def steffensen_method(x0, tol, max_iter): # x0 valor inicial, tolerancia\n",
        "# y número máximo de iteraciones\n",
        "    x = x0 # se va actualizando en cada iteración\n",
        "    iterations = [] # almacena los resultados\n",
        "\n",
        "    for i in range(max_iter): # empiezan las iteraciones para encontrar la raíz\n",
        "        # evalúa la función en x\n",
        "        fx = f(x)\n",
        "        # evalúa la función en x + fx\n",
        "        fx_plus_fx = f(x + fx)\n",
        "\n",
        "        # para calcular el nuevo valor de x usando Steffensen\n",
        "        x_new = x - (fx ** 2) / (fx_plus_fx - fx)\n",
        "\n",
        "        # calcula el error\n",
        "        error = abs(x_new - x)\n",
        "\n",
        "        # almacena la iteración\n",
        "        iterations.append((i + 1, x_new, error))\n",
        "\n",
        "        # se actualiza x para la próxima iteración\n",
        "        x = x_new\n",
        "\n",
        "        # para verificar la tolerancia\n",
        "        if error < tol:\n",
        "            break\n",
        "\n",
        "    return x, iterations\n",
        "\n",
        "# parámetros iniciales\n",
        "x0 = 1.0  # valor inicial\n",
        "tolerancia = 0.00001\n",
        "max_iteraciones = 100\n",
        "\n",
        "# método de Steffensen\n",
        "solucion, tabla_iteraciones = steffensen_method(x0, tolerancia, max_iteraciones)\n",
        "\n",
        "# imprime resultados\n",
        "print(f\"Solución: {solucion}\")\n",
        "print(\"Iteraciones:\")\n",
        "print(f\"{'Iteración':<10}{'Valor':<20}{'Error':<20}\")\n",
        "for iteracion in tabla_iteraciones:\n",
        "    print(f\"{iteracion[0]:<10}{iteracion[1]:<20}{iteracion[2]:<20}\")"
      ],
      "metadata": {
        "colab": {
          "base_uri": "https://localhost:8080/"
        },
        "id": "8N2osnH1X5rF",
        "outputId": "d1a9bc8a-fa5e-4199-b9a6-a0aa4ff2a043"
      },
      "execution_count": 2,
      "outputs": [
        {
          "output_type": "stream",
          "name": "stdout",
          "text": [
            "Solución: 1.5235929330974431\n",
            "Iteraciones:\n",
            "Iteración Valor               Error               \n",
            "1         1.5336911745479127  0.5336911745479127  \n",
            "2         1.5235912149979527  0.010099959549960014\n",
            "3         1.5235929330974431  1.718099490455316e-06\n"
          ]
        }
      ]
    }
  ]
}