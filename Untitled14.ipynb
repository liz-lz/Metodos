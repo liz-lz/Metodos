{
  "nbformat": 4,
  "nbformat_minor": 0,
  "metadata": {
    "colab": {
      "provenance": [],
      "authorship_tag": "ABX9TyO/nP2PFlvLcWuut2Y9WbJG",
      "include_colab_link": true
    },
    "kernelspec": {
      "name": "python3",
      "display_name": "Python 3"
    },
    "language_info": {
      "name": "python"
    }
  },
  "cells": [
    {
      "cell_type": "markdown",
      "metadata": {
        "id": "view-in-github",
        "colab_type": "text"
      },
      "source": [
        "<a href=\"https://colab.research.google.com/github/liz-lz/Metodos/blob/main/Untitled14.ipynb\" target=\"_parent\"><img src=\"https://colab.research.google.com/assets/colab-badge.svg\" alt=\"Open In Colab\"/></a>"
      ]
    },
    {
      "cell_type": "code",
      "source": [
        "import numpy as np\n",
        "\n",
        "def gauss_elimination_with_back_substitution(A):\n",
        "    # función que resuelve un sistema de ecuaciones lineales representado por una matriz aumentada A\n",
        "    # usando el método de eliminación gaussiana con sustitución hacia atrás\n",
        "\n",
        "    # A (ndarray): la matriz aumentada del sistema (n x n+1)\n",
        "    # x (ndarray): solución del sistema, o mensaje si no hay una solución única\n",
        "\n",
        "    A = np.array(A, dtype=float)  # convertir a tipo float\n",
        "    n = A.shape[0] # obtiene el número de filas\n",
        "\n",
        "    # eliminación\n",
        "    for i in range(n - 1):  # procesa las columnas principales de A y elimina las variables correspondientes\n",
        "        # busca pivote\n",
        "        p = i\n",
        "        while p < n and A[p, i] == 0:  # busca la primera fila con pivote válido\n",
        "            p += 1\n",
        "\n",
        "        if p == n:  # no se encontró un pivote válido y no se puede continuar\n",
        "            return \"No existe una solución única\"\n",
        "\n",
        "        # intercambia las filas necesarias\n",
        "        if p != i:\n",
        "            A[[i, p]] = A[[p, i]]\n",
        "\n",
        "        # elimina variables en filas inferiores\n",
        "        for j in range(i + 1, n):\n",
        "            # calcula el multiplicador\n",
        "            mji = A[j, i] / A[i, i]\n",
        "\n",
        "            # resta la fila escalada de la fila actual\n",
        "            A[j, i:] -= mji * A[i, i:]\n",
        "\n",
        "    # verifica si hay solución única\n",
        "    if A[n - 1, n - 1] == 0:\n",
        "        return \"No existe una solución única\" # si el último elemento diagonal es 0\n",
        "\n",
        "    # sustitución hacia atrás\n",
        "    x = np.zeros(n)\n",
        "    # determina xn\n",
        "    x[n - 1] = A[n - 1, n] / A[n - 1, n - 1]\n",
        "\n",
        "    # determina xi para i = n-1, ..., 1\n",
        "    for i in range(n - 2, -1, -1):\n",
        "        x[i] = (A[i, n] - np.sum(A[i, i + 1:n] * x[i + 1:n])) / A[i, i]\n",
        "\n",
        "    return x\n",
        "\n",
        "# ejemplo 2\n",
        "if __name__ == \"__main__\":\n",
        "    # matriz aumentada\n",
        "    A = [\n",
        "        [1, -1, 2, -1, -8],\n",
        "        [2, -2, 3, -3, -20],\n",
        "        [1, 1, 1, 0, -2],\n",
        "        [1, -1, 4, 3, 4]\n",
        "    ]\n",
        "\n",
        "    # resuelve el sistema\n",
        "    solucion = gauss_elimination_with_back_substitution(A)\n",
        "    print(\"Resultado con las x en orden:\", solucion)\n"
      ],
      "metadata": {
        "colab": {
          "base_uri": "https://localhost:8080/"
        },
        "id": "QxoH_-9f6IXH",
        "outputId": "4346fecf-68e3-470c-c0b3-ca82eae41b8a"
      },
      "execution_count": 5,
      "outputs": [
        {
          "output_type": "stream",
          "name": "stdout",
          "text": [
            "Resultado con las x en orden: [-7.  3.  2.  2.]\n"
          ]
        }
      ]
    }
  ]
}