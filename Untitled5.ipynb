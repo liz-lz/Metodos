{
  "nbformat": 4,
  "nbformat_minor": 0,
  "metadata": {
    "colab": {
      "provenance": [],
      "authorship_tag": "ABX9TyPN96ifV37zHc9Yo6OmPekj",
      "include_colab_link": true
    },
    "kernelspec": {
      "name": "python3",
      "display_name": "Python 3"
    },
    "language_info": {
      "name": "python"
    }
  },
  "cells": [
    {
      "cell_type": "markdown",
      "metadata": {
        "id": "view-in-github",
        "colab_type": "text"
      },
      "source": [
        "<a href=\"https://colab.research.google.com/github/liz-lz/Metodos/blob/main/Untitled5.ipynb\" target=\"_parent\"><img src=\"https://colab.research.google.com/assets/colab-badge.svg\" alt=\"Open In Colab\"/></a>"
      ]
    },
    {
      "cell_type": "code",
      "source": [
        "def horner(pol, x): #para evaluar un polinomio usando el método de Horner\n",
        " # pol es la lista de coeficientes del polinomio, empezando con el de mayor grado\n",
        " # x es el valor donde se evalúa el polinomio\n",
        "    result = 0 # el proceso va a iniciar en 0\n",
        "    for coef in pol:\n",
        "        result = result * x + coef # Itera sobre cada coeficiente, multiplica y\n",
        "        # suma el coeficiente actual.\n",
        "    return result # devuelve el resultado final de la evaluación\n",
        "\n",
        "def derivada_horner(pol): # calcúla la derivada usando el método de Horner\n",
        "    n = len(pol) # longitud del polinomio\n",
        "    derivada = [0] * (n - 1) # lista para almacenar los coeficientes de la derivada\n",
        "\n",
        "    for i in range(n - 1):\n",
        "        derivada[i] = pol[i] * (n - 1 - i) # itera sobre los coeficientes originales\n",
        "# y calcula cada coeficiente de la derivada por su exponente\n",
        "    return derivada # devuelve la lista de coeficientes de la derivada\n",
        "\n",
        "def metodo_newton(pol, x0, tol=1e-7, max_iter=100): # x0 valor inicial\n",
        "# tolerancia y el número máximo de iteraciones\n",
        "    for i in range(max_iter): # inicia el bucle y hasta el número máximo de\n",
        "# iteraciones\n",
        "        f_x0 = horner(pol, x0)\n",
        "        derivada_pol = derivada_horner(pol)\n",
        "        f_prime_x0 = horner(derivada_pol, x0)\n",
        "# evalúa el polinomio y su derivada con las funciones anteriores\n",
        "        if f_prime_x0 == 0:  # si la derivada es 0 no se puede calcular porque\n",
        "        # no se puede la división por 0\n",
        "            print(\"La derivada es cero. No se puede continuar.\")\n",
        "            return None\n",
        "\n",
        "        # actualiza x usando la fórmula del método de Newton\n",
        "        x1 = x0 - f_x0 / f_prime_x0\n",
        "\n",
        "        # se verifica la convergencia\n",
        "        if abs(x1 - x0) < tol:\n",
        "            return x1\n",
        "\n",
        "        x0 = x1\n",
        "\n",
        "    print(\"No se encontró una raíz en el número máximo de iteraciones.\")\n",
        "    return None\n",
        "\n",
        "# polinomio P(x) = 2x^4 - 3x^2 + 3x - 4\n",
        "polinomio = [2, 0, -3, 3, -4]  # Coeficientes del término de mayor grado\n",
        "\n",
        "x0 = -2 # valor inicial\n",
        "\n",
        "# llama al método de Newton\n",
        "raiz = metodo_newton(polinomio, x0)\n",
        "\n",
        "if raiz is not None:\n",
        "    print(f\"La raíz encontrada es: {raiz}\")"
      ],
      "metadata": {
        "colab": {
          "base_uri": "https://localhost:8080/"
        },
        "id": "-xuFAjZ-Vyey",
        "outputId": "e019492a-e068-4c29-b099-2346f134aba7"
      },
      "execution_count": 5,
      "outputs": [
        {
          "output_type": "stream",
          "name": "stdout",
          "text": [
            "La raíz encontrada es: -1.738956256451892\n"
          ]
        }
      ]
    }
  ]
}